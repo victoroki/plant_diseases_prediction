{
 "cells": [
  {
   "cell_type": "code",
   "execution_count": 1,
   "id": "3f1e0910-510d-4b6f-ad28-4ed2758d21ec",
   "metadata": {},
   "outputs": [],
   "source": [
    "##Plant Leaf Desease detection"
   ]
  },
  {
   "cell_type": "code",
   "execution_count": null,
   "id": "1c6843ce-adc2-4825-ac8e-893887ecc515",
   "metadata": {},
   "outputs": [],
   "source": []
  },
  {
   "cell_type": "code",
   "execution_count": 2,
   "id": "152461fa-949d-48b3-911d-5e33f2327378",
   "metadata": {},
   "outputs": [
    {
     "name": "stdout",
     "output_type": "stream",
     "text": [
      "Requirement already satisfied: tensorflow in c:\\users\\admin\\anaconda3\\lib\\site-packages (2.16.1)\n",
      "Requirement already satisfied: matplotlib in c:\\users\\admin\\anaconda3\\lib\\site-packages (3.8.0)\n",
      "Requirement already satisfied: pandas in c:\\users\\admin\\anaconda3\\lib\\site-packages (2.1.4)\n",
      "Requirement already satisfied: numpy in c:\\users\\admin\\anaconda3\\lib\\site-packages (1.26.4)\n",
      "Requirement already satisfied: seaborn in c:\\users\\admin\\anaconda3\\lib\\site-packages (0.12.2)\n",
      "Requirement already satisfied: tensorflow-intel==2.16.1 in c:\\users\\admin\\anaconda3\\lib\\site-packages (from tensorflow) (2.16.1)\n",
      "Requirement already satisfied: absl-py>=1.0.0 in c:\\users\\admin\\anaconda3\\lib\\site-packages (from tensorflow-intel==2.16.1->tensorflow) (2.1.0)\n",
      "Requirement already satisfied: astunparse>=1.6.0 in c:\\users\\admin\\anaconda3\\lib\\site-packages (from tensorflow-intel==2.16.1->tensorflow) (1.6.3)\n",
      "Requirement already satisfied: flatbuffers>=23.5.26 in c:\\users\\admin\\anaconda3\\lib\\site-packages (from tensorflow-intel==2.16.1->tensorflow) (24.3.7)\n",
      "Requirement already satisfied: gast!=0.5.0,!=0.5.1,!=0.5.2,>=0.2.1 in c:\\users\\admin\\anaconda3\\lib\\site-packages (from tensorflow-intel==2.16.1->tensorflow) (0.5.4)\n",
      "Requirement already satisfied: google-pasta>=0.1.1 in c:\\users\\admin\\anaconda3\\lib\\site-packages (from tensorflow-intel==2.16.1->tensorflow) (0.2.0)\n",
      "Requirement already satisfied: h5py>=3.10.0 in c:\\users\\admin\\anaconda3\\lib\\site-packages (from tensorflow-intel==2.16.1->tensorflow) (3.10.0)\n",
      "Requirement already satisfied: libclang>=13.0.0 in c:\\users\\admin\\anaconda3\\lib\\site-packages (from tensorflow-intel==2.16.1->tensorflow) (16.0.6)\n",
      "Requirement already satisfied: ml-dtypes~=0.3.1 in c:\\users\\admin\\anaconda3\\lib\\site-packages (from tensorflow-intel==2.16.1->tensorflow) (0.3.2)\n",
      "Requirement already satisfied: opt-einsum>=2.3.2 in c:\\users\\admin\\anaconda3\\lib\\site-packages (from tensorflow-intel==2.16.1->tensorflow) (3.3.0)\n",
      "Requirement already satisfied: packaging in c:\\users\\admin\\anaconda3\\lib\\site-packages (from tensorflow-intel==2.16.1->tensorflow) (23.1)\n",
      "Requirement already satisfied: protobuf!=4.21.0,!=4.21.1,!=4.21.2,!=4.21.3,!=4.21.4,!=4.21.5,<5.0.0dev,>=3.20.3 in c:\\users\\admin\\anaconda3\\lib\\site-packages (from tensorflow-intel==2.16.1->tensorflow) (3.20.3)\n",
      "Requirement already satisfied: requests<3,>=2.21.0 in c:\\users\\admin\\anaconda3\\lib\\site-packages (from tensorflow-intel==2.16.1->tensorflow) (2.31.0)\n",
      "Requirement already satisfied: setuptools in c:\\users\\admin\\anaconda3\\lib\\site-packages (from tensorflow-intel==2.16.1->tensorflow) (68.2.2)\n",
      "Requirement already satisfied: six>=1.12.0 in c:\\users\\admin\\anaconda3\\lib\\site-packages (from tensorflow-intel==2.16.1->tensorflow) (1.16.0)\n",
      "Requirement already satisfied: termcolor>=1.1.0 in c:\\users\\admin\\anaconda3\\lib\\site-packages (from tensorflow-intel==2.16.1->tensorflow) (2.4.0)\n",
      "Requirement already satisfied: typing-extensions>=3.6.6 in c:\\users\\admin\\anaconda3\\lib\\site-packages (from tensorflow-intel==2.16.1->tensorflow) (4.9.0)\n",
      "Requirement already satisfied: wrapt>=1.11.0 in c:\\users\\admin\\anaconda3\\lib\\site-packages (from tensorflow-intel==2.16.1->tensorflow) (1.14.1)\n",
      "Requirement already satisfied: grpcio<2.0,>=1.24.3 in c:\\users\\admin\\anaconda3\\lib\\site-packages (from tensorflow-intel==2.16.1->tensorflow) (1.62.1)\n",
      "Requirement already satisfied: tensorboard<2.17,>=2.16 in c:\\users\\admin\\anaconda3\\lib\\site-packages (from tensorflow-intel==2.16.1->tensorflow) (2.16.2)\n",
      "Requirement already satisfied: keras>=3.0.0 in c:\\users\\admin\\anaconda3\\lib\\site-packages (from tensorflow-intel==2.16.1->tensorflow) (3.0.5)\n",
      "Requirement already satisfied: tensorflow-io-gcs-filesystem>=0.23.1 in c:\\users\\admin\\anaconda3\\lib\\site-packages (from tensorflow-intel==2.16.1->tensorflow) (0.31.0)\n",
      "Requirement already satisfied: contourpy>=1.0.1 in c:\\users\\admin\\anaconda3\\lib\\site-packages (from matplotlib) (1.2.0)\n",
      "Requirement already satisfied: cycler>=0.10 in c:\\users\\admin\\anaconda3\\lib\\site-packages (from matplotlib) (0.11.0)\n",
      "Requirement already satisfied: fonttools>=4.22.0 in c:\\users\\admin\\anaconda3\\lib\\site-packages (from matplotlib) (4.25.0)\n",
      "Requirement already satisfied: kiwisolver>=1.0.1 in c:\\users\\admin\\anaconda3\\lib\\site-packages (from matplotlib) (1.4.4)\n",
      "Requirement already satisfied: pillow>=6.2.0 in c:\\users\\admin\\anaconda3\\lib\\site-packages (from matplotlib) (10.2.0)\n",
      "Requirement already satisfied: pyparsing>=2.3.1 in c:\\users\\admin\\anaconda3\\lib\\site-packages (from matplotlib) (3.0.9)\n",
      "Requirement already satisfied: python-dateutil>=2.7 in c:\\users\\admin\\anaconda3\\lib\\site-packages (from matplotlib) (2.8.2)\n",
      "Requirement already satisfied: pytz>=2020.1 in c:\\users\\admin\\anaconda3\\lib\\site-packages (from pandas) (2023.3.post1)\n",
      "Requirement already satisfied: tzdata>=2022.1 in c:\\users\\admin\\anaconda3\\lib\\site-packages (from pandas) (2023.3)\n",
      "Requirement already satisfied: wheel<1.0,>=0.23.0 in c:\\users\\admin\\anaconda3\\lib\\site-packages (from astunparse>=1.6.0->tensorflow-intel==2.16.1->tensorflow) (0.41.2)\n",
      "Requirement already satisfied: rich in c:\\users\\admin\\anaconda3\\lib\\site-packages (from keras>=3.0.0->tensorflow-intel==2.16.1->tensorflow) (13.3.5)\n",
      "Requirement already satisfied: namex in c:\\users\\admin\\anaconda3\\lib\\site-packages (from keras>=3.0.0->tensorflow-intel==2.16.1->tensorflow) (0.0.7)\n",
      "Requirement already satisfied: dm-tree in c:\\users\\admin\\anaconda3\\lib\\site-packages (from keras>=3.0.0->tensorflow-intel==2.16.1->tensorflow) (0.1.8)\n",
      "Requirement already satisfied: charset-normalizer<4,>=2 in c:\\users\\admin\\anaconda3\\lib\\site-packages (from requests<3,>=2.21.0->tensorflow-intel==2.16.1->tensorflow) (2.0.4)\n",
      "Requirement already satisfied: idna<4,>=2.5 in c:\\users\\admin\\anaconda3\\lib\\site-packages (from requests<3,>=2.21.0->tensorflow-intel==2.16.1->tensorflow) (3.4)\n",
      "Requirement already satisfied: urllib3<3,>=1.21.1 in c:\\users\\admin\\anaconda3\\lib\\site-packages (from requests<3,>=2.21.0->tensorflow-intel==2.16.1->tensorflow) (2.0.7)\n",
      "Requirement already satisfied: certifi>=2017.4.17 in c:\\users\\admin\\anaconda3\\lib\\site-packages (from requests<3,>=2.21.0->tensorflow-intel==2.16.1->tensorflow) (2024.2.2)\n",
      "Requirement already satisfied: markdown>=2.6.8 in c:\\users\\admin\\anaconda3\\lib\\site-packages (from tensorboard<2.17,>=2.16->tensorflow-intel==2.16.1->tensorflow) (3.4.1)\n",
      "Requirement already satisfied: tensorboard-data-server<0.8.0,>=0.7.0 in c:\\users\\admin\\anaconda3\\lib\\site-packages (from tensorboard<2.17,>=2.16->tensorflow-intel==2.16.1->tensorflow) (0.7.2)\n",
      "Requirement already satisfied: werkzeug>=1.0.1 in c:\\users\\admin\\anaconda3\\lib\\site-packages (from tensorboard<2.17,>=2.16->tensorflow-intel==2.16.1->tensorflow) (2.2.3)\n",
      "Requirement already satisfied: MarkupSafe>=2.1.1 in c:\\users\\admin\\anaconda3\\lib\\site-packages (from werkzeug>=1.0.1->tensorboard<2.17,>=2.16->tensorflow-intel==2.16.1->tensorflow) (2.1.3)\n",
      "Requirement already satisfied: markdown-it-py<3.0.0,>=2.2.0 in c:\\users\\admin\\anaconda3\\lib\\site-packages (from rich->keras>=3.0.0->tensorflow-intel==2.16.1->tensorflow) (2.2.0)\n",
      "Requirement already satisfied: pygments<3.0.0,>=2.13.0 in c:\\users\\admin\\anaconda3\\lib\\site-packages (from rich->keras>=3.0.0->tensorflow-intel==2.16.1->tensorflow) (2.15.1)\n",
      "Requirement already satisfied: mdurl~=0.1 in c:\\users\\admin\\anaconda3\\lib\\site-packages (from markdown-it-py<3.0.0,>=2.2.0->rich->keras>=3.0.0->tensorflow-intel==2.16.1->tensorflow) (0.1.0)\n"
     ]
    }
   ],
   "source": [
    "!pip install tensorflow matplotlib pandas numpy seaborn"
   ]
  },
  {
   "cell_type": "code",
   "execution_count": 3,
   "id": "94a6bcd7-beda-401a-aa27-7d5a960647a0",
   "metadata": {},
   "outputs": [],
   "source": [
    "import tensorflow as tf\n",
    "import matplotlib.pyplot as plt\n",
    "import pandas as pd\n",
    "import seaborn as sns"
   ]
  },
  {
   "cell_type": "code",
   "execution_count": 4,
   "id": "e896c7d2-dcb2-48bb-b649-6ceac46a1d54",
   "metadata": {},
   "outputs": [
    {
     "name": "stdout",
     "output_type": "stream",
     "text": [
      "Found 70295 files belonging to 38 classes.\n"
     ]
    }
   ],
   "source": [
    "training_set = tf.keras.utils.image_dataset_from_directory(\n",
    "    \"train\",\n",
    "    labels=\"inferred\",\n",
    "    label_mode=\"categorical\",\n",
    "    class_names=None,\n",
    "    color_mode=\"rgb\",\n",
    "    batch_size=32,\n",
    "    image_size=(128, 128),\n",
    "    shuffle=True,\n",
    "    seed=None,\n",
    "    validation_split=None,\n",
    "    subset=None,\n",
    "    interpolation=\"bilinear\",\n",
    "    follow_links=False,\n",
    "    crop_to_aspect_ratio=False,\n",
    "    data_format=None,\n",
    ")"
   ]
  },
  {
   "cell_type": "code",
   "execution_count": 5,
   "id": "3b84e38e-1c27-4a6e-b96b-58701452fc03",
   "metadata": {},
   "outputs": [
    {
     "name": "stdout",
     "output_type": "stream",
     "text": [
      "Found 17572 files belonging to 38 classes.\n"
     ]
    }
   ],
   "source": [
    "validation_set = tf.keras.utils.image_dataset_from_directory(\n",
    "    \"valid\",\n",
    "    labels=\"inferred\",\n",
    "    label_mode=\"categorical\",\n",
    "    class_names=None,\n",
    "    color_mode=\"rgb\",\n",
    "    batch_size=32,\n",
    "    image_size=(128, 128),\n",
    "    shuffle=True,\n",
    "    seed=None,\n",
    "    validation_split=None,\n",
    "    subset=None,\n",
    "    interpolation=\"bilinear\",\n",
    "    follow_links=False,\n",
    "    crop_to_aspect_ratio=False,\n",
    "    data_format=None,\n",
    ")"
   ]
  },
  {
   "cell_type": "code",
   "execution_count": 6,
   "id": "67c0c134-61b5-459f-98cf-a4b8a31a9396",
   "metadata": {},
   "outputs": [
    {
     "name": "stdout",
     "output_type": "stream",
     "text": [
      "tf.Tensor(\n",
      "[[[[ 94.75  95.75 113.75]\n",
      "   [ 85.    86.   104.  ]\n",
      "   [ 79.5   80.5   98.5 ]\n",
      "   ...\n",
      "   [136.25 141.25 161.25]\n",
      "   [137.25 142.25 162.25]\n",
      "   [142.25 147.25 167.25]]\n",
      "\n",
      "  [[ 94.25  95.25 113.25]\n",
      "   [ 85.75  86.75 104.75]\n",
      "   [ 92.25  93.25 111.25]\n",
      "   ...\n",
      "   [135.5  140.5  160.5 ]\n",
      "   [138.   143.   163.  ]\n",
      "   [146.5  151.5  171.5 ]]\n",
      "\n",
      "  [[100.25 101.25 119.25]\n",
      "   [ 99.5  100.5  118.5 ]\n",
      "   [105.   106.   124.  ]\n",
      "   ...\n",
      "   [136.25 141.25 161.25]\n",
      "   [136.25 141.25 161.25]\n",
      "   [140.75 145.75 165.75]]\n",
      "\n",
      "  ...\n",
      "\n",
      "  [[ 88.75  89.75 109.75]\n",
      "   [ 85.    86.   106.  ]\n",
      "   [ 80.75  81.75 101.75]\n",
      "   ...\n",
      "   [145.5  150.5  169.5 ]\n",
      "   [154.75 159.75 178.75]\n",
      "   [144.75 149.75 168.75]]\n",
      "\n",
      "  [[ 96.75  97.75 117.75]\n",
      "   [ 91.25  92.25 112.25]\n",
      "   [ 99.   100.   120.  ]\n",
      "   ...\n",
      "   [141.75 146.75 165.75]\n",
      "   [135.5  140.5  159.5 ]\n",
      "   [131.5  136.5  155.5 ]]\n",
      "\n",
      "  [[ 81.75  82.75 102.75]\n",
      "   [ 84.    85.   105.  ]\n",
      "   [ 76.25  77.25  97.25]\n",
      "   ...\n",
      "   [135.75 140.75 159.75]\n",
      "   [133.5  138.5  157.5 ]\n",
      "   [133.   138.   157.  ]]]\n",
      "\n",
      "\n",
      " [[[138.    95.    88.  ]\n",
      "   [136.    93.    86.  ]\n",
      "   [142.75  99.75  92.75]\n",
      "   ...\n",
      "   [168.5  133.5  129.5 ]\n",
      "   [161.25 126.25 122.25]\n",
      "   [159.5  124.5  120.5 ]]\n",
      "\n",
      "  [[141.75  98.75  91.75]\n",
      "   [143.   100.    93.  ]\n",
      "   [138.    95.    88.  ]\n",
      "   ...\n",
      "   [165.   130.   126.  ]\n",
      "   [151.75 116.75 112.75]\n",
      "   [162.25 127.25 123.25]]\n",
      "\n",
      "  [[136.5   93.5   86.5 ]\n",
      "   [136.75  93.75  86.75]\n",
      "   [131.5   88.5   81.5 ]\n",
      "   ...\n",
      "   [170.   135.   131.  ]\n",
      "   [156.5  121.5  117.5 ]\n",
      "   [160.25 125.25 121.25]]\n",
      "\n",
      "  ...\n",
      "\n",
      "  [[149.25 105.25 104.25]\n",
      "   [154.   110.   109.  ]\n",
      "   [152.   108.   107.  ]\n",
      "   ...\n",
      "   [166.75 126.75 124.75]\n",
      "   [171.25 131.25 129.25]\n",
      "   [170.5  130.5  128.5 ]]\n",
      "\n",
      "  [[143.25  99.25  98.25]\n",
      "   [157.   113.   112.  ]\n",
      "   [153.75 109.75 108.75]\n",
      "   ...\n",
      "   [167.75 127.75 125.75]\n",
      "   [163.   123.   121.  ]\n",
      "   [161.25 121.25 119.25]]\n",
      "\n",
      "  [[146.   102.   101.  ]\n",
      "   [150.75 106.75 105.75]\n",
      "   [149.5  105.5  104.5 ]\n",
      "   ...\n",
      "   [160.25 120.25 118.25]\n",
      "   [163.   123.   121.  ]\n",
      "   [170.   130.   128.  ]]]\n",
      "\n",
      "\n",
      " [[[163.   153.   161.  ]\n",
      "   [165.75 155.75 163.75]\n",
      "   [173.   163.   171.  ]\n",
      "   ...\n",
      "   [182.5  175.5  182.5 ]\n",
      "   [179.5  172.5  179.5 ]\n",
      "   [183.5  176.5  183.5 ]]\n",
      "\n",
      "  [[173.25 163.25 171.25]\n",
      "   [162.25 152.25 160.25]\n",
      "   [175.75 165.75 173.75]\n",
      "   ...\n",
      "   [182.25 175.25 182.25]\n",
      "   [179.75 172.75 179.75]\n",
      "   [186.   179.   186.  ]]\n",
      "\n",
      "  [[177.   167.   175.  ]\n",
      "   [177.75 167.75 175.75]\n",
      "   [163.5  153.5  161.5 ]\n",
      "   ...\n",
      "   [182.75 175.75 182.75]\n",
      "   [177.5  170.5  177.5 ]\n",
      "   [180.   173.   180.  ]]\n",
      "\n",
      "  ...\n",
      "\n",
      "  [[ 98.    88.    97.  ]\n",
      "   [109.5   99.5  108.5 ]\n",
      "   [ 90.25  80.25  89.25]\n",
      "   ...\n",
      "   [153.25 146.25 153.25]\n",
      "   [165.5  158.5  165.5 ]\n",
      "   [172.25 165.25 172.25]]\n",
      "\n",
      "  [[101.25  91.25 100.25]\n",
      "   [101.    91.   100.  ]\n",
      "   [103.75  93.75 102.75]\n",
      "   ...\n",
      "   [159.25 152.25 159.25]\n",
      "   [157.75 150.75 157.75]\n",
      "   [167.75 160.75 167.75]]\n",
      "\n",
      "  [[ 91.75  81.75  90.75]\n",
      "   [ 90.75  80.75  89.75]\n",
      "   [109.25  99.25 108.25]\n",
      "   ...\n",
      "   [163.25 156.25 163.25]\n",
      "   [170.5  163.5  170.5 ]\n",
      "   [161.   154.   161.  ]]]\n",
      "\n",
      "\n",
      " ...\n",
      "\n",
      "\n",
      " [[[109.75 100.75 103.75]\n",
      "   [110.25 101.25 104.25]\n",
      "   [111.5  102.5  105.5 ]\n",
      "   ...\n",
      "   [117.5  107.5  106.5 ]\n",
      "   [114.5  104.5  103.5 ]\n",
      "   [122.5  112.5  111.5 ]]\n",
      "\n",
      "  [[117.75 108.75 111.75]\n",
      "   [115.75 106.75 109.75]\n",
      "   [124.75 115.75 118.75]\n",
      "   ...\n",
      "   [123.5  113.5  112.5 ]\n",
      "   [125.   115.   114.  ]\n",
      "   [122.75 112.75 111.75]]\n",
      "\n",
      "  [[117.   108.   111.  ]\n",
      "   [122.5  113.5  116.5 ]\n",
      "   [116.75 107.75 110.75]\n",
      "   ...\n",
      "   [122.25 112.25 111.25]\n",
      "   [114.75 104.75 103.75]\n",
      "   [117.25 107.25 106.25]]\n",
      "\n",
      "  ...\n",
      "\n",
      "  [[163.   158.   164.  ]\n",
      "   [156.75 151.75 157.75]\n",
      "   [157.75 152.75 158.75]\n",
      "   ...\n",
      "   [195.25 189.25 191.25]\n",
      "   [190.5  184.5  186.5 ]\n",
      "   [187.75 181.75 183.75]]\n",
      "\n",
      "  [[151.5  146.5  152.5 ]\n",
      "   [151.25 146.25 152.25]\n",
      "   [157.   152.   158.  ]\n",
      "   ...\n",
      "   [190.75 184.75 186.75]\n",
      "   [188.75 182.75 184.75]\n",
      "   [189.25 183.25 185.25]]\n",
      "\n",
      "  [[159.   154.   160.  ]\n",
      "   [152.5  147.5  153.5 ]\n",
      "   [158.   153.   159.  ]\n",
      "   ...\n",
      "   [195.25 189.25 191.25]\n",
      "   [191.5  185.5  187.5 ]\n",
      "   [191.5  185.5  187.5 ]]]\n",
      "\n",
      "\n",
      " [[[103.5  134.5   93.5 ]\n",
      "   [107.25 138.25  97.25]\n",
      "   [108.   139.    98.  ]\n",
      "   ...\n",
      "   [ 99.25 151.25  85.25]\n",
      "   [ 96.75 148.75  82.75]\n",
      "   [101.75 153.75  87.75]]\n",
      "\n",
      "  [[109.75 140.75  99.75]\n",
      "   [118.   149.   108.  ]\n",
      "   [115.   146.   105.  ]\n",
      "   ...\n",
      "   [ 96.75 148.75  82.75]\n",
      "   [ 97.25 149.25  83.25]\n",
      "   [102.25 154.25  88.25]]\n",
      "\n",
      "  [[106.5  137.5   96.5 ]\n",
      "   [101.75 132.75  91.75]\n",
      "   [104.25 135.25  94.25]\n",
      "   ...\n",
      "   [ 98.5  150.5   84.5 ]\n",
      "   [101.25 153.25  87.25]\n",
      "   [103.25 155.25  89.25]]\n",
      "\n",
      "  ...\n",
      "\n",
      "  [[145.   182.5  101.  ]\n",
      "   [157.25 197.75 106.75]\n",
      "   [158.5  200.   103.5 ]\n",
      "   ...\n",
      "   [147.5  183.25 122.75]\n",
      "   [153.   188.75 128.25]\n",
      "   [162.5  198.5  137.  ]]\n",
      "\n",
      "  [[138.   175.5   95.  ]\n",
      "   [150.25 190.75  99.5 ]\n",
      "   [160.5  202.75 102.  ]\n",
      "   ...\n",
      "   [154.5  189.5  133.5 ]\n",
      "   [153.25 188.25 131.75]\n",
      "   [161.75 196.75 139.25]]\n",
      "\n",
      "  [[123.75 161.25  80.75]\n",
      "   [141.   181.5   89.5 ]\n",
      "   [156.75 199.25  94.75]\n",
      "   ...\n",
      "   [162.75 195.75 142.75]\n",
      "   [157.75 190.75 137.25]\n",
      "   [160.   193.   138.  ]]]\n",
      "\n",
      "\n",
      " [[[ 17.25  13.25  12.25]\n",
      "   [ 19.    15.    14.  ]\n",
      "   [ 18.75  14.75  11.75]\n",
      "   ...\n",
      "   [209.25 209.25 209.25]\n",
      "   [211.   211.   211.  ]\n",
      "   [212.25 212.25 212.25]]\n",
      "\n",
      "  [[ 21.75  14.    20.75]\n",
      "   [ 20.    12.25  19.  ]\n",
      "   [ 20.5   13.5   17.5 ]\n",
      "   ...\n",
      "   [211.5  211.5  211.5 ]\n",
      "   [212.75 212.75 212.75]\n",
      "   [214.   214.   214.  ]]\n",
      "\n",
      "  [[ 53.5   35.75  83.  ]\n",
      "   [ 47.    29.75  75.  ]\n",
      "   [ 40.25  23.    68.25]\n",
      "   ...\n",
      "   [210.25 210.25 210.25]\n",
      "   [211.5  211.5  211.5 ]\n",
      "   [213.   213.   213.  ]]\n",
      "\n",
      "  ...\n",
      "\n",
      "  [[127.   117.   125.  ]\n",
      "   [121.75 111.75 119.75]\n",
      "   [121.   111.   119.  ]\n",
      "   ...\n",
      "   [142.   132.   141.  ]\n",
      "   [148.5  138.5  147.5 ]\n",
      "   [148.25 138.25 147.25]]\n",
      "\n",
      "  [[115.   105.   113.  ]\n",
      "   [123.25 113.25 121.25]\n",
      "   [123.   113.   121.  ]\n",
      "   ...\n",
      "   [140.75 130.75 139.75]\n",
      "   [151.25 141.25 150.25]\n",
      "   [154.25 144.25 153.25]]\n",
      "\n",
      "  [[124.75 114.75 122.75]\n",
      "   [121.25 111.25 119.25]\n",
      "   [126.   116.   124.  ]\n",
      "   ...\n",
      "   [156.5  146.5  155.5 ]\n",
      "   [157.5  147.5  156.5 ]\n",
      "   [158.75 148.75 157.75]]]], shape=(32, 128, 128, 3), dtype=float32) (32, 128, 128, 3)\n",
      "tf.Tensor(\n",
      "[[0. 0. 0. ... 0. 0. 0.]\n",
      " [0. 0. 0. ... 0. 0. 0.]\n",
      " [0. 0. 0. ... 0. 0. 0.]\n",
      " ...\n",
      " [0. 0. 0. ... 0. 0. 0.]\n",
      " [0. 0. 0. ... 0. 0. 0.]\n",
      " [0. 0. 0. ... 0. 0. 0.]], shape=(32, 38), dtype=float32) (32, 38)\n"
     ]
    }
   ],
   "source": [
    "for x,y in training_set:\n",
    "    print(x, x.shape)\n",
    "    print(y, y.shape)\n",
    "    break"
   ]
  },
  {
   "cell_type": "code",
   "execution_count": 7,
   "id": "2c829a25-e428-4f40-93a6-e2f78ad97654",
   "metadata": {},
   "outputs": [],
   "source": [
    "###BUILDING A MODEL"
   ]
  },
  {
   "cell_type": "code",
   "execution_count": 8,
   "id": "c1d54a1c-59de-4a53-82ce-0b0dc427bc78",
   "metadata": {},
   "outputs": [],
   "source": [
    "from tensorflow.keras.layers import Dense, Conv2D, MaxPooling2D, Flatten, Dropout\n",
    "from tensorflow.keras.models import Sequential"
   ]
  },
  {
   "cell_type": "code",
   "execution_count": 9,
   "id": "8b5b0989-0125-4fcb-8677-d5e6f633412d",
   "metadata": {},
   "outputs": [],
   "source": [
    "model = Sequential()"
   ]
  },
  {
   "cell_type": "code",
   "execution_count": 10,
   "id": "360fee1e-bf4d-4d34-87d1-21ae2796826e",
   "metadata": {
    "scrolled": true
   },
   "outputs": [
    {
     "name": "stderr",
     "output_type": "stream",
     "text": [
      "C:\\Users\\ADMIN\\anaconda3\\Lib\\site-packages\\keras\\src\\layers\\convolutional\\base_conv.py:99: UserWarning: Do not pass an `input_shape`/`input_dim` argument to a layer. When using Sequential models, prefer using an `Input(shape)` object as the first layer in the model instead.\n",
      "  super().__init__(\n"
     ]
    },
    {
     "ename": "NameError",
     "evalue": "name 'MaxPool2D' is not defined",
     "output_type": "error",
     "traceback": [
      "\u001b[1;31m---------------------------------------------------------------------------\u001b[0m",
      "\u001b[1;31mNameError\u001b[0m                                 Traceback (most recent call last)",
      "Cell \u001b[1;32mIn[10], line 3\u001b[0m\n\u001b[0;32m      1\u001b[0m model\u001b[38;5;241m.\u001b[39madd(Conv2D(filters\u001b[38;5;241m=\u001b[39m\u001b[38;5;241m32\u001b[39m, kernel_size\u001b[38;5;241m=\u001b[39m\u001b[38;5;241m3\u001b[39m, padding\u001b[38;5;241m=\u001b[39m\u001b[38;5;124m\"\u001b[39m\u001b[38;5;124msame\u001b[39m\u001b[38;5;124m\"\u001b[39m, activation\u001b[38;5;241m=\u001b[39m\u001b[38;5;124m\"\u001b[39m\u001b[38;5;124mrelu\u001b[39m\u001b[38;5;124m\"\u001b[39m, input_shape\u001b[38;5;241m=\u001b[39m[\u001b[38;5;241m128\u001b[39m, \u001b[38;5;241m128\u001b[39m, \u001b[38;5;241m3\u001b[39m]))\n\u001b[0;32m      2\u001b[0m model\u001b[38;5;241m.\u001b[39madd(Conv2D(filters\u001b[38;5;241m=\u001b[39m\u001b[38;5;241m32\u001b[39m, kernel_size\u001b[38;5;241m=\u001b[39m\u001b[38;5;241m3\u001b[39m, activation\u001b[38;5;241m=\u001b[39m\u001b[38;5;124m\"\u001b[39m\u001b[38;5;124mrelu\u001b[39m\u001b[38;5;124m\"\u001b[39m))\n\u001b[1;32m----> 3\u001b[0m model\u001b[38;5;241m.\u001b[39madd(MaxPool2D(pool_size\u001b[38;5;241m=\u001b[39m\u001b[38;5;241m2\u001b[39m, strides\u001b[38;5;241m=\u001b[39m\u001b[38;5;241m2\u001b[39m))\n\u001b[0;32m      5\u001b[0m model\u001b[38;5;241m.\u001b[39madd(Conv2D(filters\u001b[38;5;241m=\u001b[39m\u001b[38;5;241m64\u001b[39m, kernel_size\u001b[38;5;241m=\u001b[39m\u001b[38;5;241m3\u001b[39m, padding\u001b[38;5;241m=\u001b[39m\u001b[38;5;124m\"\u001b[39m\u001b[38;5;124msame\u001b[39m\u001b[38;5;124m\"\u001b[39m, activation\u001b[38;5;241m=\u001b[39m\u001b[38;5;124m\"\u001b[39m\u001b[38;5;124mrelu\u001b[39m\u001b[38;5;124m\"\u001b[39m))\n\u001b[0;32m      6\u001b[0m model\u001b[38;5;241m.\u001b[39madd(Conv2D(filters\u001b[38;5;241m=\u001b[39m\u001b[38;5;241m64\u001b[39m, kernel_size\u001b[38;5;241m=\u001b[39m\u001b[38;5;241m3\u001b[39m, activation\u001b[38;5;241m=\u001b[39m\u001b[38;5;124m\"\u001b[39m\u001b[38;5;124mrelu\u001b[39m\u001b[38;5;124m\"\u001b[39m))\n",
      "\u001b[1;31mNameError\u001b[0m: name 'MaxPool2D' is not defined"
     ]
    }
   ],
   "source": [
    "model.add(Conv2D(filters=32, kernel_size=3, padding=\"same\", activation=\"relu\", input_shape=[128, 128, 3]))\n",
    "model.add(Conv2D(filters=32, kernel_size=3, activation=\"relu\"))\n",
    "model.add(MaxPool2D(pool_size=2, strides=2))\n",
    "\n",
    "model.add(Conv2D(filters=64, kernel_size=3, padding=\"same\", activation=\"relu\"))\n",
    "model.add(Conv2D(filters=64, kernel_size=3, activation=\"relu\"))\n",
    "model.add(MaxPool2D(pool_size=2, strides=2))\n",
    "\n",
    "model.add(Conv2D(filters=128, kernel_size=3, padding=\"same\", activation=\"relu\"))\n",
    "model.add(Conv2D(filters=128, kernel_size=3, activation=\"relu\"))\n",
    "model.add(MaxPool2D(pool_size=2, strides=2))\n",
    "\n",
    "model.add(Conv2D(filters=256, kernel_size=3, padding=\"same\", activation=\"relu\"))\n",
    "model.add(Conv2D(filters=256, kernel_size=3, activation=\"relu\"))\n",
    "model.add(MaxPool2D(pool_size=2, strides=2))\n",
    "\n",
    "model.add(Conv2D(filters=512, kernel_size=3, padding=\"same\", activation=\"relu\"))\n",
    "model.add(Conv2D(filters=512, kernel_size=3, activation=\"relu\"))\n",
    "model.add(MaxPooling2D(pool_size=2, strides=2))\n",
    "\n"
   ]
  },
  {
   "cell_type": "code",
   "execution_count": null,
   "id": "15e103de-7328-42e6-b63e-d6f107437c55",
   "metadata": {
    "scrolled": true
   },
   "outputs": [],
   "source": [
    "model.add(Flatten())"
   ]
  },
  {
   "cell_type": "code",
   "execution_count": null,
   "id": "a8aed23f-3f20-417d-b391-5134e6ba7558",
   "metadata": {},
   "outputs": [],
   "source": [
    "model.add(Dropout(0.25))"
   ]
  },
  {
   "cell_type": "code",
   "execution_count": null,
   "id": "d875189b-65a2-43e2-9f81-837839ea2a20",
   "metadata": {},
   "outputs": [],
   "source": [
    "model.add(Dense(units=1500, activation=\"relu\"))"
   ]
  },
  {
   "cell_type": "code",
   "execution_count": null,
   "id": "92c7131b-f2f5-4b0e-86d7-db7088c4bd86",
   "metadata": {},
   "outputs": [],
   "source": [
    "model.add(Dropout(0.4))"
   ]
  },
  {
   "cell_type": "code",
   "execution_count": null,
   "id": "04556ae7-0209-4f27-97eb-929196eb9b42",
   "metadata": {},
   "outputs": [],
   "source": [
    "##Otput Layer"
   ]
  },
  {
   "cell_type": "code",
   "execution_count": null,
   "id": "82b17580-267c-4581-b0e6-239e929da1a1",
   "metadata": {},
   "outputs": [],
   "source": [
    "model.add(Dense(units=38, activation=\"softmax\"))"
   ]
  },
  {
   "cell_type": "code",
   "execution_count": null,
   "id": "882e2be1-7ffa-40dd-a9e2-0617e7107747",
   "metadata": {},
   "outputs": [],
   "source": [
    "###compiling model"
   ]
  },
  {
   "cell_type": "code",
   "execution_count": null,
   "id": "ac95d2bf-787c-48b9-b58b-c549c2fd43cf",
   "metadata": {},
   "outputs": [],
   "source": [
    "model.compile(optimizer=tf.keras.optimizers.Adam\n",
    "              (learning_rate=0.0001), loss='categorical_crossentropy', metrics=['accuracy'])\n",
    "model.summary()"
   ]
  },
  {
   "cell_type": "code",
   "execution_count": null,
   "id": "c5a9f76d-7b75-4ecf-adee-fda11c4c0a56",
   "metadata": {},
   "outputs": [],
   "source": [
    "###Model training"
   ]
  },
  {
   "cell_type": "code",
   "execution_count": null,
   "id": "ea03c506-9b3f-478e-8f58-7cb560b8cccf",
   "metadata": {},
   "outputs": [],
   "source": [
    "training_history = model.fit(x=training_set,validation_data=validation_set, epochs=10)"
   ]
  },
  {
   "cell_type": "code",
   "execution_count": null,
   "id": "dcec63fe-d833-4623-b0bc-84bf463de285",
   "metadata": {},
   "outputs": [],
   "source": [
    "model.save(\"plant_prediction_2.keras\")"
   ]
  },
  {
   "cell_type": "code",
   "execution_count": null,
   "id": "d3819671-9590-4b8f-82c5-58fd9bffee60",
   "metadata": {},
   "outputs": [],
   "source": [
    "import json\n",
    "with open(\"training_histo.json\", \"w\") as f:\n",
    "    json.dump(training_history.history, f)"
   ]
  },
  {
   "cell_type": "code",
   "execution_count": null,
   "id": "170fccf8-d7da-4a73-8e3d-65af8ee3a94c",
   "metadata": {},
   "outputs": [],
   "source": [
    "epochs = [i for i in range(1,11)]\n",
    "plt.plot(epochs, training_history.history[\"accuracy\"], color=\"red\", label=\"Training accuracy\")\n",
    "plt.plot(epochs, training_history.history[\"val_accuracy\"], color=\"blue\", label=\"Validation accuracy\")\n",
    "plt.xlabel(\"No of Epochs\")\n",
    "plt.ylabel(\"Accuracy\")\n",
    "plt.title(\"Accuracy Visualization\")\n",
    "plt.legend()\n",
    "plt.show()"
   ]
  },
  {
   "cell_type": "code",
   "execution_count": null,
   "id": "b1d4d59e-7235-4750-b23a-e690c372e708",
   "metadata": {},
   "outputs": [],
   "source": [
    "class_name = validation_set.class_names"
   ]
  },
  {
   "cell_type": "code",
   "execution_count": null,
   "id": "372efd21-e8b6-4e89-a02e-e0b9cc1c1c52",
   "metadata": {},
   "outputs": [],
   "source": [
    "test_set = tf.keras.utils.image_dataset_from_directory(\n",
    "    \"valid\",\n",
    "    labels=\"inferred\",\n",
    "    label_mode=\"categorical\",\n",
    "    class_names=None,\n",
    "    color_mode=\"rgb\",\n",
    "    batch_size=32,\n",
    "    image_size=(128, 128),\n",
    "    shuffle=False,\n",
    "    seed=None,\n",
    "    validation_split=None,\n",
    "    subset=None,\n",
    "    interpolation=\"bilinear\",\n",
    "    follow_links=False,\n",
    "    crop_to_aspect_ratio=False,\n",
    ")"
   ]
  },
  {
   "cell_type": "code",
   "execution_count": null,
   "id": "bdce2493-d0e0-467f-aedb-77108ce3c2ae",
   "metadata": {},
   "outputs": [],
   "source": [
    "y_pred = model.predict(test_set)\n",
    "print(y_pred, y_pred.shape)"
   ]
  },
  {
   "cell_type": "code",
   "execution_count": null,
   "id": "74815372-a2f6-4db7-b230-4386afc5fe15",
   "metadata": {},
   "outputs": [],
   "source": [
    "predicted_categories = tf.argmax(y_pred, axis=1)"
   ]
  },
  {
   "cell_type": "code",
   "execution_count": 1,
   "id": "1fc6ce74-1b86-4e00-bb87-d644297683a9",
   "metadata": {},
   "outputs": [
    {
     "ename": "NameError",
     "evalue": "name 'predicted_categories' is not defined",
     "output_type": "error",
     "traceback": [
      "\u001b[1;31m---------------------------------------------------------------------------\u001b[0m",
      "\u001b[1;31mNameError\u001b[0m                                 Traceback (most recent call last)",
      "Cell \u001b[1;32mIn[1], line 1\u001b[0m\n\u001b[1;32m----> 1\u001b[0m \u001b[38;5;28mprint\u001b[39m(predicted_categories)\n",
      "\u001b[1;31mNameError\u001b[0m: name 'predicted_categories' is not defined"
     ]
    }
   ],
   "source": [
    "print(predicted_categories)"
   ]
  },
  {
   "cell_type": "code",
   "execution_count": null,
   "id": "d689938f-b025-4fa9-ae20-6d034f27d289",
   "metadata": {},
   "outputs": [],
   "source": []
  }
 ],
 "metadata": {
  "kernelspec": {
   "display_name": "Python 3 (ipykernel)",
   "language": "python",
   "name": "python3"
  },
  "language_info": {
   "codemirror_mode": {
    "name": "ipython",
    "version": 3
   },
   "file_extension": ".py",
   "mimetype": "text/x-python",
   "name": "python",
   "nbconvert_exporter": "python",
   "pygments_lexer": "ipython3",
   "version": "3.11.7"
  }
 },
 "nbformat": 4,
 "nbformat_minor": 5
}
